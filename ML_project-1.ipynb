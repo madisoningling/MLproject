{
 "cells": [
  {
   "cell_type": "markdown",
   "id": "8d3dd619",
   "metadata": {},
   "source": [
    "## Import Libraries"
   ]
  },
  {
   "cell_type": "code",
   "execution_count": 1,
   "id": "50ad4ae7",
   "metadata": {},
   "outputs": [],
   "source": [
    "#import libraries\n",
    "\n",
    "import numpy as np\n",
    "import pandas as pd\n",
    "import itertools\n",
    "import matplotlib.pyplot as plt\n",
    "from sklearn.metrics import accuracy_score\n",
    "from sklearn.model_selection import train_test_split\n",
    "import tensorflow as tf\n",
    "from tensorflow import keras\n",
    "from tensorflow.keras import layers, models\n",
    "from tensorflow.keras.models import Sequential\n",
    "from tensorflow.keras.layers import Dense, Dropout, LSTM, Masking, Embedding"
   ]
  },
  {
   "cell_type": "markdown",
   "id": "cac183cc",
   "metadata": {},
   "source": [
    "## Load Data"
   ]
  },
  {
   "cell_type": "code",
   "execution_count": 9,
   "id": "fe4d8c4b",
   "metadata": {},
   "outputs": [
    {
     "data": {
      "text/html": [
       "<div>\n",
       "<style scoped>\n",
       "    .dataframe tbody tr th:only-of-type {\n",
       "        vertical-align: middle;\n",
       "    }\n",
       "\n",
       "    .dataframe tbody tr th {\n",
       "        vertical-align: top;\n",
       "    }\n",
       "\n",
       "    .dataframe thead th {\n",
       "        text-align: right;\n",
       "    }\n",
       "</style>\n",
       "<table border=\"1\" class=\"dataframe\">\n",
       "  <thead>\n",
       "    <tr style=\"text-align: right;\">\n",
       "      <th></th>\n",
       "      <th>year</th>\n",
       "      <th>site</th>\n",
       "      <th>latitude</th>\n",
       "      <th>longitude</th>\n",
       "      <th>month</th>\n",
       "      <th>airT</th>\n",
       "      <th>precip</th>\n",
       "      <th>snowDepth</th>\n",
       "      <th>SWE</th>\n",
       "      <th>streamFlow</th>\n",
       "    </tr>\n",
       "  </thead>\n",
       "  <tbody>\n",
       "    <tr>\n",
       "      <th>0</th>\n",
       "      <td>1979</td>\n",
       "      <td>Brown Duck</td>\n",
       "      <td>40.58102</td>\n",
       "      <td>-110.58587</td>\n",
       "      <td>1</td>\n",
       "      <td>-18</td>\n",
       "      <td>4.0</td>\n",
       "      <td>42</td>\n",
       "      <td>7.8</td>\n",
       "      <td>19.9</td>\n",
       "    </tr>\n",
       "    <tr>\n",
       "      <th>1</th>\n",
       "      <td>1979</td>\n",
       "      <td>Brown Duck</td>\n",
       "      <td>40.58102</td>\n",
       "      <td>-110.58587</td>\n",
       "      <td>2</td>\n",
       "      <td>-5</td>\n",
       "      <td>3.8</td>\n",
       "      <td>53</td>\n",
       "      <td>11.8</td>\n",
       "      <td>20.0</td>\n",
       "    </tr>\n",
       "    <tr>\n",
       "      <th>2</th>\n",
       "      <td>1979</td>\n",
       "      <td>Brown Duck</td>\n",
       "      <td>40.58102</td>\n",
       "      <td>-110.58587</td>\n",
       "      <td>3</td>\n",
       "      <td>7</td>\n",
       "      <td>3.9</td>\n",
       "      <td>58</td>\n",
       "      <td>15.6</td>\n",
       "      <td>19.4</td>\n",
       "    </tr>\n",
       "    <tr>\n",
       "      <th>3</th>\n",
       "      <td>1979</td>\n",
       "      <td>Brown Duck</td>\n",
       "      <td>40.58102</td>\n",
       "      <td>-110.58587</td>\n",
       "      <td>4</td>\n",
       "      <td>-6</td>\n",
       "      <td>1.0</td>\n",
       "      <td>65</td>\n",
       "      <td>19.5</td>\n",
       "      <td>29.1</td>\n",
       "    </tr>\n",
       "    <tr>\n",
       "      <th>4</th>\n",
       "      <td>1979</td>\n",
       "      <td>Brown Duck</td>\n",
       "      <td>40.58102</td>\n",
       "      <td>-110.58587</td>\n",
       "      <td>5</td>\n",
       "      <td>14</td>\n",
       "      <td>2.0</td>\n",
       "      <td>71</td>\n",
       "      <td>20.5</td>\n",
       "      <td>253.5</td>\n",
       "    </tr>\n",
       "  </tbody>\n",
       "</table>\n",
       "</div>"
      ],
      "text/plain": [
       "   year        site  latitude  longitude  month  airT  precip  snowDepth  \\\n",
       "0  1979  Brown Duck  40.58102 -110.58587      1   -18     4.0         42   \n",
       "1  1979  Brown Duck  40.58102 -110.58587      2    -5     3.8         53   \n",
       "2  1979  Brown Duck  40.58102 -110.58587      3     7     3.9         58   \n",
       "3  1979  Brown Duck  40.58102 -110.58587      4    -6     1.0         65   \n",
       "4  1979  Brown Duck  40.58102 -110.58587      5    14     2.0         71   \n",
       "\n",
       "    SWE  streamFlow  \n",
       "0   7.8        19.9  \n",
       "1  11.8        20.0  \n",
       "2  15.6        19.4  \n",
       "3  19.5        29.1  \n",
       "4  20.5       253.5  "
      ]
     },
     "execution_count": 9,
     "metadata": {},
     "output_type": "execute_result"
    }
   ],
   "source": [
    "#load data\n",
    "\n",
    "#input\n",
    "input_data = pd.read_csv('/Users/Madi/Desktop/ML/inputdata_randomized5time.csv')\n",
    "\n",
    "#organize by year\n",
    "data1979 = input_data.loc[input_data['year']==1979];data1980 = input_data.loc[input_data['year']==1980];data1981 = input_data.loc[input_data['year']==1981];data1984 = input_data.loc[input_data['year']==1984];data1985 = input_data.loc[input_data['year']==1985];data1986 = input_data.loc[input_data['year']==1986]\n",
    "data1987 = input_data.loc[input_data['year']==1987];data1988 = input_data.loc[input_data['year']==1988];data1989 = input_data.loc[input_data['year'] == 1989];data1990 = input_data.loc[input_data['year'] == 1990];data1992 = input_data.loc[input_data['year']==1992]\n",
    "data1993 = input_data.loc[input_data['year']==1993];data1998 = input_data.loc[input_data['year'] == 1998]\n",
    "data1997 = input_data.loc[input_data['year'] == 1997];data1999 = input_data.loc[input_data['year'] == 1999]; data2000 = input_data.loc[input_data['year'] == 2000]\n",
    "data2001 = input_data.loc[input_data['year'] == 2001]; data2002 = input_data.loc[input_data['year'] == 2002]\n",
    "data2003 = input_data.loc[input_data['year'] == 2003]; data2004 = input_data.loc[input_data['year'] == 2004]\n",
    "data2005 = input_data.loc[input_data['year'] == 2005];data2006 = input_data.loc[input_data['year'] == 2006]\n",
    "data2007 = input_data.loc[input_data['year'] == 2007];data2008 = input_data.loc[input_data['year'] == 2008]\n",
    "data2009 = input_data.loc[input_data['year'] == 2009];data2010 = input_data.loc[input_data['year'] == 2010]\n",
    "data2011 = input_data.loc[input_data['year'] == 2011];data2012 = input_data.loc[input_data['year'] == 2012]\n",
    "data2013 = input_data.loc[input_data['year'] == 2013];data2014 = input_data.loc[input_data['year'] == 2014]\n",
    "data2015 = input_data.loc[input_data['year'] == 2015];data2016 = input_data.loc[input_data['year'] == 2016]\n",
    "data2016 = input_data.loc[input_data['year'] == 2016];data2017 = input_data.loc[input_data['year'] == 2017]\n",
    "data2018 = input_data.loc[input_data['year'] == 2018];data2019 = input_data.loc[input_data['year'] == 2019]\n",
    "data2020 = input_data.loc[input_data['year'] == 2020]\n",
    "\n",
    "\n",
    "a = ['site','airT','precip','snowDepth','SWE','streamFlow']\n",
    "\n",
    "data1979= data1979[a].copy();data1980= data1980[a].copy();data1981= data1981[a].copy();data1984= data1984[a].copy();data1985= data1985[a].copy();data1987= data1987[a].copy();data1986= data1986[a].copy();data1988 = data1988[a].copy();data1989 = data1989[a].copy();data1990 = data1990[a].copy() ; data1992 = data1992[a].copy();data1993 = data1993[a].copy();data1998 = data1998[a].copy() \n",
    "data1997 = data1997[a].copy();data1999 = data1999[a].copy();data2000 = data2000[a].copy();data2001 = data2001[a].copy();data2002 = data2002[a].copy()\n",
    "data2007 = data2007[a].copy();data2008 = data2008[a].copy();data2009 = data2009[a].copy()\n",
    "data2010 = data2010[a].copy();data2011 = data2011[a].copy();data2012 = data2012[a].copy()\n",
    "data2013 = data2013[a].copy();data2014 = data2014[a].copy();data2015 = data2015[a].copy()\n",
    "data2016 = data2016[a].copy();data2017 = data2017[a].copy();data2018 = data2018[a].copy()\n",
    "data2019 = data2019[a].copy();data2020 = data2020[a].copy()\n",
    "\n",
    "input_data.head()"
   ]
  },
  {
   "cell_type": "code",
   "execution_count": 10,
   "id": "c82280da",
   "metadata": {},
   "outputs": [
    {
     "data": {
      "text/html": [
       "<div>\n",
       "<style scoped>\n",
       "    .dataframe tbody tr th:only-of-type {\n",
       "        vertical-align: middle;\n",
       "    }\n",
       "\n",
       "    .dataframe tbody tr th {\n",
       "        vertical-align: top;\n",
       "    }\n",
       "\n",
       "    .dataframe thead th {\n",
       "        text-align: right;\n",
       "    }\n",
       "</style>\n",
       "<table border=\"1\" class=\"dataframe\">\n",
       "  <thead>\n",
       "    <tr style=\"text-align: right;\">\n",
       "      <th></th>\n",
       "      <th>Year</th>\n",
       "      <th>D2Area</th>\n",
       "      <th>Unnamed: 2</th>\n",
       "      <th>Unnamed: 3</th>\n",
       "      <th>Unnamed: 4</th>\n",
       "      <th>arizona area</th>\n",
       "      <th>california</th>\n",
       "      <th>colorado area</th>\n",
       "      <th>area nevada</th>\n",
       "      <th>new mexico</th>\n",
       "      <th>utah</th>\n",
       "      <th>wyoming</th>\n",
       "      <th>total</th>\n",
       "    </tr>\n",
       "  </thead>\n",
       "  <tbody>\n",
       "    <tr>\n",
       "      <th>0</th>\n",
       "      <td>1979</td>\n",
       "      <td>0.004874</td>\n",
       "      <td>NaN</td>\n",
       "      <td>NaN</td>\n",
       "      <td>NaN</td>\n",
       "      <td>113998.0</td>\n",
       "      <td>163696.000000</td>\n",
       "      <td>104185.0</td>\n",
       "      <td>110567.0</td>\n",
       "      <td>121697.000000</td>\n",
       "      <td>84899.0</td>\n",
       "      <td>97914.0</td>\n",
       "      <td>796956.0</td>\n",
       "    </tr>\n",
       "    <tr>\n",
       "      <th>1</th>\n",
       "      <td>1980</td>\n",
       "      <td>0.061005</td>\n",
       "      <td>NaN</td>\n",
       "      <td>NaN</td>\n",
       "      <td>NaN</td>\n",
       "      <td>NaN</td>\n",
       "      <td>NaN</td>\n",
       "      <td>NaN</td>\n",
       "      <td>NaN</td>\n",
       "      <td>NaN</td>\n",
       "      <td>NaN</td>\n",
       "      <td>NaN</td>\n",
       "      <td>NaN</td>\n",
       "    </tr>\n",
       "    <tr>\n",
       "      <th>2</th>\n",
       "      <td>1981</td>\n",
       "      <td>0.017254</td>\n",
       "      <td>NaN</td>\n",
       "      <td>NaN</td>\n",
       "      <td>NaN</td>\n",
       "      <td>1985.0</td>\n",
       "      <td>0.230748</td>\n",
       "      <td>NaN</td>\n",
       "      <td>1979.0</td>\n",
       "      <td>0.004874</td>\n",
       "      <td>NaN</td>\n",
       "      <td>NaN</td>\n",
       "      <td>NaN</td>\n",
       "    </tr>\n",
       "    <tr>\n",
       "      <th>3</th>\n",
       "      <td>1984</td>\n",
       "      <td>0.045597</td>\n",
       "      <td>NaN</td>\n",
       "      <td>NaN</td>\n",
       "      <td>NaN</td>\n",
       "      <td>1986.0</td>\n",
       "      <td>0.001083</td>\n",
       "      <td>NaN</td>\n",
       "      <td>1980.0</td>\n",
       "      <td>0.061005</td>\n",
       "      <td>NaN</td>\n",
       "      <td>NaN</td>\n",
       "      <td>NaN</td>\n",
       "    </tr>\n",
       "    <tr>\n",
       "      <th>4</th>\n",
       "      <td>1985</td>\n",
       "      <td>0.231000</td>\n",
       "      <td>NaN</td>\n",
       "      <td>NaN</td>\n",
       "      <td>NaN</td>\n",
       "      <td>1987.0</td>\n",
       "      <td>0.027079</td>\n",
       "      <td>NaN</td>\n",
       "      <td>1981.0</td>\n",
       "      <td>0.017254</td>\n",
       "      <td>NaN</td>\n",
       "      <td>NaN</td>\n",
       "      <td>NaN</td>\n",
       "    </tr>\n",
       "  </tbody>\n",
       "</table>\n",
       "</div>"
      ],
      "text/plain": [
       "   Year    D2Area  Unnamed: 2  Unnamed: 3  Unnamed: 4  arizona area   \\\n",
       "0  1979  0.004874         NaN         NaN         NaN       113998.0   \n",
       "1  1980  0.061005         NaN         NaN         NaN            NaN   \n",
       "2  1981  0.017254         NaN         NaN         NaN         1985.0   \n",
       "3  1984  0.045597         NaN         NaN         NaN         1986.0   \n",
       "4  1985  0.231000         NaN         NaN         NaN         1987.0   \n",
       "\n",
       "      california  colorado area  area nevada     new mexico    utah   \\\n",
       "0  163696.000000       104185.0     110567.0  121697.000000  84899.0   \n",
       "1            NaN            NaN          NaN            NaN      NaN   \n",
       "2       0.230748            NaN       1979.0       0.004874      NaN   \n",
       "3       0.001083            NaN       1980.0       0.061005      NaN   \n",
       "4       0.027079            NaN       1981.0       0.017254      NaN   \n",
       "\n",
       "   wyoming      total  \n",
       "0   97914.0  796956.0  \n",
       "1       NaN       NaN  \n",
       "2       NaN       NaN  \n",
       "3       NaN       NaN  \n",
       "4       NaN       NaN  "
      ]
     },
     "execution_count": 10,
     "metadata": {},
     "output_type": "execute_result"
    }
   ],
   "source": [
    "#output\n",
    "output_data = pd.read_csv('/Users/Madi/Desktop/ML/cleandroughtdata1.csv')\n",
    "out = [\"D2Area\"]\n",
    "output_labels = output_data[out].copy()\n",
    "output_data.head()\n"
   ]
  },
  {
   "cell_type": "markdown",
   "id": "92248874",
   "metadata": {},
   "source": [
    "## Organize data manually into batches"
   ]
  },
  {
   "cell_type": "code",
   "execution_count": 11,
   "id": "4a66ca45",
   "metadata": {
    "scrolled": false
   },
   "outputs": [],
   "source": [
    "\n",
    "alldata = [data1979,data1980,data1981,data1984,data1985,data1986,data1987,data1988,data1989,data1990,data1992,data1993,data1997,data1998,data1999,data2000,data2001,data2002,data2003,data2004,data2005,data2006,data2007,data2008,data2009,data2010,data2011,data2012,data2013,data2014,data2015,data2016,data2017,data2018,data2019,data2020]\n",
    "\n",
    "\n",
    "#for x in range(len(alldata)):\n",
    " #   print(len(alldata[x])/5)\n",
    " \n",
    "    \n",
    "\n",
    "features = 5\n",
    "batch_size = 1\n",
    "timestep = 5\n",
    "count = 0\n",
    "batch = []\n",
    "tempbatch = []\n",
    "tempyear = []\n",
    "fullbatch = []\n",
    "tracker = 0\n",
    "totalcount = 0\n",
    "\n",
    "\n",
    "for x in range(len(alldata)): \n",
    "    tempyear = alldata[tracker]\n",
    "    batch = []\n",
    "    index=0\n",
    "    for y in range((int(tempyear.shape[0]/timestep))):\n",
    "        if len(batch) < batch_size:\n",
    "            tempbatch = []\n",
    "            if y == (int(tempyear.shape[0]/timestep)-1):\n",
    "                for z in range(timestep):\n",
    "                    tempbatch.append(tempyear.iloc[index])\n",
    "                    index +=1\n",
    "                batch.append(tempbatch)\n",
    "                totalcount +=1\n",
    "                fullbatch.append(batch)\n",
    "            else:\n",
    "                for z in range(timestep):\n",
    "                    tempbatch.append(tempyear.iloc[index])\n",
    "                    index +=1\n",
    "                batch.append(tempbatch)\n",
    "                totalcount +=1\n",
    "\n",
    "        elif len(batch) == batch_size:\n",
    "            fullbatch.append(batch)\n",
    "            batch = []\n",
    "            tempbatch = []\n",
    "            for z in range(timestep):\n",
    "                tempbatch.append(tempyear.iloc[index])\n",
    "                if index == (tempyear.shape[0]-1):\n",
    "                    batch.append(tempbatch)\n",
    "                    fullbatch.append(batch)\n",
    "                    batch = []\n",
    "                index +=1\n",
    "   \n",
    "            batch.append(tempbatch)\n",
    "            \n",
    "    tracker +=1\n"
   ]
  },
  {
   "cell_type": "code",
   "execution_count": 12,
   "id": "d3274833",
   "metadata": {},
   "outputs": [],
   "source": [
    "\n",
    "pad = [[0,0,0,0,0],[0,0,0,0,0],[0,0,0,0,0],[0,0,0,0,0],[0,0,0,0,0]]\n",
    "\n",
    "#add padding\n",
    "for x in range(len(fullbatch)):\n",
    "    single = fullbatch[x]\n",
    "    for m in range(len(single)):\n",
    "        if len(single) != batch_size:\n",
    "            difference = batch_size - len(single)\n",
    "            while difference != 0:\n",
    "                for k in range(difference):\n",
    "                    single.insert(0,pad)\n",
    "                    difference = batch_size - len(single)\n",
    "         \n",
    "\n",
    "\n",
    "#convert data back into dataframe\n",
    "newbatch = []\n",
    "for x in range(len(fullbatch)):\n",
    "    single = fullbatch[x]\n",
    "    for c in range(len(single)):\n",
    "        individual = single[c]\n",
    "        for d in range(len(individual)):\n",
    "            one = individual[d]\n",
    "            one = pd.DataFrame(one)\n",
    "            one = pd.DataFrame.transpose(one)\n",
    "\n",
    "                   \n",
    "#pop any unnecessary variables\n",
    "for x in range(len(fullbatch)):\n",
    "    single = fullbatch[x]\n",
    "    for c in range(len(single)):\n",
    "        individual = single[c]\n",
    "        for d in range(len(individual)):\n",
    "            one = individual[d]\n",
    "            if isinstance(one,list) == False:\n",
    "                one = one.tolist()\n",
    "                one.pop(0)\n",
    "                if len(one) != features:\n",
    "                    while len(one) != features:\n",
    "                        one.pop(0)\n",
    "                newbatch.append(one)\n",
    "            else:\n",
    "                newbatch.append(one)\n",
    "                \n",
    "\n",
    "#put info back into a dataframe\n",
    "paddedfinal = pd.DataFrame(newbatch,columns=['airT','precip','snowDepth','SWE','streamFlow'])\n",
    "#print(paddedfinal)\n",
    "\n"
   ]
  },
  {
   "cell_type": "code",
   "execution_count": 13,
   "id": "805af078",
   "metadata": {
    "scrolled": false
   },
   "outputs": [],
   "source": [
    "# reorganize data so each batch of sites per timestep is a single vector\n",
    "temp = []\n",
    "batches = []\n",
    "index = 0\n",
    "paddedfarray = paddedfinal.values.tolist()\n",
    "\n",
    "padded_flatten = list(itertools.chain(*paddedfarray))\n",
    "\n",
    "\n",
    "for y in range(int(len(paddedfarray)/batch_size/timestep)):\n",
    "    for x in range(timestep*batch_size):\n",
    "        temp.append(paddedfarray[index])\n",
    "        index +=1\n",
    "    batches.append(temp)\n",
    "    temp = []\n",
    "\n",
    "\n",
    "batch = []\n",
    "combined = []\n",
    "\n",
    "\n",
    "for y in range(len(batches)):\n",
    "    index = 0\n",
    "    count = 0\n",
    "    batch = batches[y]\n",
    "    for z in range(int(len(batch)/batch_size)):\n",
    "        for x in range(batch_size):\n",
    "            temp.append(batch[index])\n",
    "            index +=timestep\n",
    "        combined.append(temp)\n",
    "        temp = []\n",
    "        count+=1\n",
    "        index = count\n",
    "        \n",
    "for x in range(len(combined)):\n",
    "    combined[x] = list(itertools.chain(*combined[x]))\n",
    "  \n",
    "#print(len(combined))"
   ]
  },
  {
   "cell_type": "code",
   "execution_count": 14,
   "id": "20846432",
   "metadata": {},
   "outputs": [
    {
     "name": "stdout",
     "output_type": "stream",
     "text": [
      "1127\n"
     ]
    }
   ],
   "source": [
    "z= features*batch_size\n",
    "\n",
    "reshapedcombined = np.reshape(combined,(int(len(combined)/timestep),timestep,z))\n",
    "print(len(reshapedcombined))\n",
    "X_train, X_test, y_train, y_test = train_test_split(reshapedcombined, output_labels, test_size=0.30, random_state=117)\n"
   ]
  },
  {
   "cell_type": "markdown",
   "id": "24472848",
   "metadata": {},
   "source": [
    "## Normalize Data"
   ]
  },
  {
   "cell_type": "code",
   "execution_count": 15,
   "id": "658bb58c",
   "metadata": {},
   "outputs": [],
   "source": [
    "#standardize data\n",
    "\n",
    "x_mean = X_train.mean(axis=0)\n",
    "x_std = X_train.std(axis=0)\n",
    "X_train = (X_train - x_mean) / x_std # (train_data - min) / (max-min) \n",
    "X_test = (X_test - x_mean) / x_std\n",
    "\n"
   ]
  },
  {
   "cell_type": "code",
   "execution_count": 16,
   "id": "db05761f",
   "metadata": {},
   "outputs": [
    {
     "name": "stdout",
     "output_type": "stream",
     "text": [
      "(788, 5, 5) \n",
      " (788, 1)\n"
     ]
    }
   ],
   "source": [
    "print(X_train.shape,'\\n',y_train.shape)\n"
   ]
  },
  {
   "cell_type": "markdown",
   "id": "c8ea8344",
   "metadata": {},
   "source": [
    "## Build the Model"
   ]
  },
  {
   "cell_type": "code",
   "execution_count": 39,
   "id": "800747c5",
   "metadata": {
    "scrolled": true
   },
   "outputs": [
    {
     "name": "stdout",
     "output_type": "stream",
     "text": [
      "Epoch 1/1000\n",
      "19/19 - 5s - loss: 0.1277 - mae: 0.2769 - val_loss: 0.0728 - val_mae: 0.2090\n",
      "\n",
      ".Epoch 2/1000\n",
      "19/19 - 0s - loss: 0.0806 - mae: 0.2300 - val_loss: 0.0661 - val_mae: 0.2097\n",
      ".Epoch 3/1000\n",
      "19/19 - 0s - loss: 0.0730 - mae: 0.2225 - val_loss: 0.0628 - val_mae: 0.2057\n",
      ".Epoch 4/1000\n",
      "19/19 - 0s - loss: 0.0686 - mae: 0.2183 - val_loss: 0.0615 - val_mae: 0.2067\n",
      ".Epoch 5/1000\n",
      "19/19 - 0s - loss: 0.0663 - mae: 0.2170 - val_loss: 0.0589 - val_mae: 0.2035\n",
      ".Epoch 6/1000\n",
      "19/19 - 0s - loss: 0.0639 - mae: 0.2136 - val_loss: 0.0572 - val_mae: 0.2018\n",
      ".Epoch 7/1000\n",
      "19/19 - 0s - loss: 0.0619 - mae: 0.2111 - val_loss: 0.0562 - val_mae: 0.2015\n",
      ".Epoch 8/1000\n",
      "19/19 - 0s - loss: 0.0600 - mae: 0.2095 - val_loss: 0.0553 - val_mae: 0.2009\n",
      ".Epoch 9/1000\n",
      "19/19 - 0s - loss: 0.0586 - mae: 0.2082 - val_loss: 0.0547 - val_mae: 0.2019\n",
      ".Epoch 10/1000\n",
      "19/19 - 0s - loss: 0.0580 - mae: 0.2058 - val_loss: 0.0541 - val_mae: 0.2018\n",
      ".Epoch 11/1000\n",
      "19/19 - 0s - loss: 0.0571 - mae: 0.2089 - val_loss: 0.0542 - val_mae: 0.2034\n",
      ".Epoch 12/1000\n",
      "19/19 - 0s - loss: 0.0564 - mae: 0.2057 - val_loss: 0.0539 - val_mae: 0.2023\n",
      ".Epoch 13/1000\n",
      "19/19 - 0s - loss: 0.0561 - mae: 0.2064 - val_loss: 0.0539 - val_mae: 0.2027\n",
      ".Epoch 14/1000\n",
      "19/19 - 0s - loss: 0.0555 - mae: 0.2041 - val_loss: 0.0538 - val_mae: 0.2033\n",
      ".Epoch 15/1000\n",
      "19/19 - 0s - loss: 0.0554 - mae: 0.2051 - val_loss: 0.0533 - val_mae: 0.2019\n",
      ".Epoch 16/1000\n",
      "19/19 - 0s - loss: 0.0552 - mae: 0.2041 - val_loss: 0.0535 - val_mae: 0.2024\n",
      ".Epoch 17/1000\n",
      "19/19 - 0s - loss: 0.0545 - mae: 0.2038 - val_loss: 0.0539 - val_mae: 0.2036\n",
      ".Epoch 18/1000\n",
      "19/19 - 0s - loss: 0.0541 - mae: 0.2026 - val_loss: 0.0535 - val_mae: 0.2021\n",
      ".Epoch 19/1000\n",
      "19/19 - 0s - loss: 0.0540 - mae: 0.2022 - val_loss: 0.0536 - val_mae: 0.2028\n",
      ".Epoch 20/1000\n",
      "19/19 - 0s - loss: 0.0538 - mae: 0.2013 - val_loss: 0.0525 - val_mae: 0.2013\n",
      ".Epoch 21/1000\n",
      "19/19 - 0s - loss: 0.0534 - mae: 0.2004 - val_loss: 0.0531 - val_mae: 0.2019\n",
      ".Epoch 22/1000\n",
      "19/19 - 0s - loss: 0.0534 - mae: 0.2011 - val_loss: 0.0547 - val_mae: 0.2050\n",
      ".Epoch 23/1000\n",
      "19/19 - 0s - loss: 0.0527 - mae: 0.1997 - val_loss: 0.0525 - val_mae: 0.1999\n",
      ".Epoch 24/1000\n",
      "19/19 - 0s - loss: 0.0526 - mae: 0.1988 - val_loss: 0.0521 - val_mae: 0.1999\n",
      ".Epoch 25/1000\n",
      "19/19 - 0s - loss: 0.0525 - mae: 0.1997 - val_loss: 0.0520 - val_mae: 0.1996\n",
      ".Epoch 26/1000\n",
      "19/19 - 0s - loss: 0.0525 - mae: 0.1984 - val_loss: 0.0525 - val_mae: 0.2002\n",
      ".Epoch 27/1000\n",
      "19/19 - 0s - loss: 0.0517 - mae: 0.1983 - val_loss: 0.0524 - val_mae: 0.1994\n",
      ".Epoch 28/1000\n",
      "19/19 - 0s - loss: 0.0522 - mae: 0.1974 - val_loss: 0.0520 - val_mae: 0.2004\n",
      ".Epoch 29/1000\n",
      "19/19 - 0s - loss: 0.0521 - mae: 0.1974 - val_loss: 0.0520 - val_mae: 0.2002\n",
      ".Epoch 30/1000\n",
      "19/19 - 0s - loss: 0.0516 - mae: 0.1981 - val_loss: 0.0515 - val_mae: 0.1980\n",
      ".Epoch 31/1000\n",
      "19/19 - 0s - loss: 0.0515 - mae: 0.1962 - val_loss: 0.0524 - val_mae: 0.2005\n",
      ".Epoch 32/1000\n",
      "19/19 - 0s - loss: 0.0514 - mae: 0.1963 - val_loss: 0.0526 - val_mae: 0.2008\n",
      ".Epoch 33/1000\n",
      "19/19 - 0s - loss: 0.0508 - mae: 0.1963 - val_loss: 0.0520 - val_mae: 0.1961\n",
      ".Epoch 34/1000\n",
      "19/19 - 0s - loss: 0.0510 - mae: 0.1951 - val_loss: 0.0525 - val_mae: 0.1973\n",
      ".Epoch 35/1000\n",
      "19/19 - 0s - loss: 0.0503 - mae: 0.1930 - val_loss: 0.0521 - val_mae: 0.1994\n",
      ".Epoch 36/1000\n",
      "19/19 - 0s - loss: 0.0501 - mae: 0.1939 - val_loss: 0.0506 - val_mae: 0.1936\n",
      ".Epoch 37/1000\n",
      "19/19 - 0s - loss: 0.0501 - mae: 0.1926 - val_loss: 0.0528 - val_mae: 0.1994\n",
      ".Epoch 38/1000\n",
      "19/19 - 0s - loss: 0.0502 - mae: 0.1938 - val_loss: 0.0512 - val_mae: 0.1943\n",
      ".Epoch 39/1000\n",
      "19/19 - 0s - loss: 0.0501 - mae: 0.1922 - val_loss: 0.0513 - val_mae: 0.1965\n",
      ".Epoch 40/1000\n",
      "19/19 - 0s - loss: 0.0510 - mae: 0.1945 - val_loss: 0.0504 - val_mae: 0.1919\n",
      ".Epoch 41/1000\n",
      "19/19 - 0s - loss: 0.0503 - mae: 0.1916 - val_loss: 0.0505 - val_mae: 0.1929\n",
      ".Epoch 42/1000\n",
      "19/19 - 0s - loss: 0.0499 - mae: 0.1910 - val_loss: 0.0531 - val_mae: 0.1999\n",
      ".Epoch 43/1000\n",
      "19/19 - 0s - loss: 0.0488 - mae: 0.1907 - val_loss: 0.0504 - val_mae: 0.1913\n",
      ".Epoch 44/1000\n",
      "19/19 - 0s - loss: 0.0497 - mae: 0.1903 - val_loss: 0.0535 - val_mae: 0.2025\n",
      ".Epoch 45/1000\n",
      "19/19 - 0s - loss: 0.0494 - mae: 0.1912 - val_loss: 0.0517 - val_mae: 0.1939\n",
      ".Epoch 46/1000\n",
      "19/19 - 0s - loss: 0.0487 - mae: 0.1905 - val_loss: 0.0511 - val_mae: 0.1935\n",
      ".Epoch 47/1000\n",
      "19/19 - 0s - loss: 0.0483 - mae: 0.1872 - val_loss: 0.0510 - val_mae: 0.1938\n",
      ".Epoch 48/1000\n",
      "19/19 - 0s - loss: 0.0489 - mae: 0.1891 - val_loss: 0.0516 - val_mae: 0.1967\n",
      ".Epoch 49/1000\n",
      "19/19 - 0s - loss: 0.0483 - mae: 0.1880 - val_loss: 0.0525 - val_mae: 0.1954\n",
      ".Epoch 50/1000\n",
      "19/19 - 0s - loss: 0.0480 - mae: 0.1873 - val_loss: 0.0504 - val_mae: 0.1910\n",
      ".Epoch 51/1000\n",
      "19/19 - 0s - loss: 0.0480 - mae: 0.1864 - val_loss: 0.0523 - val_mae: 0.1967\n",
      ".Epoch 52/1000\n",
      "19/19 - 0s - loss: 0.0477 - mae: 0.1868 - val_loss: 0.0513 - val_mae: 0.1934\n",
      ".Epoch 53/1000\n",
      "19/19 - 0s - loss: 0.0474 - mae: 0.1849 - val_loss: 0.0519 - val_mae: 0.1955\n",
      ".Epoch 54/1000\n",
      "19/19 - 0s - loss: 0.0480 - mae: 0.1881 - val_loss: 0.0516 - val_mae: 0.1910\n",
      ".Epoch 55/1000\n",
      "19/19 - 0s - loss: 0.0476 - mae: 0.1859 - val_loss: 0.0500 - val_mae: 0.1892\n",
      ".Epoch 56/1000\n",
      "19/19 - 0s - loss: 0.0468 - mae: 0.1834 - val_loss: 0.0512 - val_mae: 0.1918\n",
      ".Epoch 57/1000\n",
      "19/19 - 0s - loss: 0.0464 - mae: 0.1842 - val_loss: 0.0515 - val_mae: 0.1910\n",
      ".Epoch 58/1000\n",
      "19/19 - 0s - loss: 0.0468 - mae: 0.1839 - val_loss: 0.0532 - val_mae: 0.1971\n",
      ".Epoch 59/1000\n",
      "19/19 - 0s - loss: 0.0465 - mae: 0.1836 - val_loss: 0.0511 - val_mae: 0.1899\n",
      ".Epoch 60/1000\n",
      "19/19 - 0s - loss: 0.0462 - mae: 0.1835 - val_loss: 0.0512 - val_mae: 0.1892\n",
      ".Epoch 61/1000\n",
      "19/19 - 0s - loss: 0.0459 - mae: 0.1817 - val_loss: 0.0512 - val_mae: 0.1915\n",
      ".Epoch 62/1000\n",
      "19/19 - 0s - loss: 0.0462 - mae: 0.1816 - val_loss: 0.0528 - val_mae: 0.1940\n",
      ".Epoch 63/1000\n",
      "19/19 - 0s - loss: 0.0460 - mae: 0.1831 - val_loss: 0.0527 - val_mae: 0.1933\n",
      ".Epoch 64/1000\n",
      "19/19 - 0s - loss: 0.0450 - mae: 0.1799 - val_loss: 0.0515 - val_mae: 0.1904\n",
      ".Epoch 65/1000\n",
      "19/19 - 0s - loss: 0.0450 - mae: 0.1800 - val_loss: 0.0520 - val_mae: 0.1913\n",
      ".Epoch 66/1000\n",
      "19/19 - 0s - loss: 0.0447 - mae: 0.1785 - val_loss: 0.0527 - val_mae: 0.1934\n",
      ".Epoch 67/1000\n",
      "19/19 - 0s - loss: 0.0454 - mae: 0.1800 - val_loss: 0.0521 - val_mae: 0.1913\n",
      ".Epoch 68/1000\n",
      "19/19 - 0s - loss: 0.0454 - mae: 0.1801 - val_loss: 0.0526 - val_mae: 0.1932\n",
      ".Epoch 69/1000\n",
      "19/19 - 0s - loss: 0.0459 - mae: 0.1819 - val_loss: 0.0534 - val_mae: 0.1931\n",
      ".Epoch 70/1000\n",
      "19/19 - 0s - loss: 0.0446 - mae: 0.1790 - val_loss: 0.0516 - val_mae: 0.1894\n",
      ".Epoch 71/1000\n",
      "19/19 - 0s - loss: 0.0443 - mae: 0.1777 - val_loss: 0.0529 - val_mae: 0.1931\n",
      ".Epoch 72/1000\n",
      "19/19 - 0s - loss: 0.0443 - mae: 0.1790 - val_loss: 0.0522 - val_mae: 0.1920\n",
      ".Epoch 73/1000\n",
      "19/19 - 0s - loss: 0.0441 - mae: 0.1772 - val_loss: 0.0522 - val_mae: 0.1902\n",
      ".Epoch 74/1000\n",
      "19/19 - 0s - loss: 0.0438 - mae: 0.1773 - val_loss: 0.0528 - val_mae: 0.1883\n",
      ".Epoch 75/1000\n",
      "19/19 - 0s - loss: 0.0444 - mae: 0.1776 - val_loss: 0.0527 - val_mae: 0.1917\n",
      ".Epoch 00075: early stopping\n",
      "Model: \"sequential_1\"\n",
      "_________________________________________________________________\n",
      "Layer (type)                 Output Shape              Param #   \n",
      "=================================================================\n",
      "lstm_3 (LSTM)                (None, 5, 32)             4864      \n",
      "_________________________________________________________________\n",
      "lstm_4 (LSTM)                (None, 5, 32)             8320      \n",
      "_________________________________________________________________\n",
      "lstm_5 (LSTM)                (None, 5, 32)             8320      \n",
      "_________________________________________________________________\n",
      "dense_1 (Dense)              (None, 5, 1)              33        \n",
      "=================================================================\n",
      "Total params: 21,537\n",
      "Trainable params: 21,537\n",
      "Non-trainable params: 0\n",
      "_________________________________________________________________\n"
     ]
    },
    {
     "data": {
      "image/png": "[encoded data removed]",
      "text/plain": [
       "<Figure size 432x288 with 1 Axes>"
      ]
     },
     "metadata": {
      "needs_background": "light"
     },
     "output_type": "display_data"
    }
   ],
   "source": [
    "\n",
    "# Function to plot how the model is doing during training\n",
    "def plot_history(history):\n",
    "    plt.figure()\n",
    "    plt.xlabel('Epoch')\n",
    "    plt.ylabel('Mean Abs Error')\n",
    "    plt.plot(history.epoch, np.array(history.history['loss']),\n",
    "           label='Train Loss')\n",
    "    plt.plot(history.epoch, np.array(history.history['val_loss']),\n",
    "           label = 'Val Loss')\n",
    "    plt.legend()\n",
    "    #plt.ylim([0, 5])\n",
    "\n",
    "early_stop = keras.callbacks.EarlyStopping(monitor='val_loss', patience=20,verbose=True)\n",
    "\n",
    "# Define basic architecture\n",
    "model = keras.Sequential([\n",
    "    keras.layers.LSTM(32, return_sequences=True, input_shape = (timestep,features*batch_size)),\n",
    "    keras.layers.LSTM(32, return_sequences=True, input_shape = (timestep,features*batch_size)),\n",
    "    keras.layers.LSTM(32, return_sequences=True, input_shape = (timestep,features*batch_size)),\n",
    "    keras.layers.Dense(1)\n",
    "])\n",
    "\n",
    "optimizer = keras.optimizers.Adam(lr=0.001)\n",
    "model.compile(loss='mse',optimizer=optimizer, metrics=['mae'])\n",
    "\n",
    "history = model.fit(X_train,y_train,epochs=1000,verbose=2, validation_split=0.25,callbacks =[early_stop])\n",
    "\n",
    "model.summary()\n",
    "plot_history(history)"
   ]
  },
  {
   "cell_type": "code",
   "execution_count": 40,
   "id": "7af8c0db",
   "metadata": {},
   "outputs": [
    {
     "data": {
      "text/plain": [
       "(339, 5, 5)"
      ]
     },
     "execution_count": 40,
     "metadata": {},
     "output_type": "execute_result"
    }
   ],
   "source": [
    "X_test.shape\n"
   ]
  },
  {
   "cell_type": "code",
   "execution_count": 41,
   "id": "0f1eb5cd",
   "metadata": {},
   "outputs": [
    {
     "data": {
      "text/plain": [
       "(339, 1)"
      ]
     },
     "execution_count": 41,
     "metadata": {},
     "output_type": "execute_result"
    }
   ],
   "source": [
    "y_test.shape\n"
   ]
  },
  {
   "cell_type": "markdown",
   "id": "fb5b8e51",
   "metadata": {},
   "source": [
    "## Evaluate on test data"
   ]
  },
  {
   "cell_type": "code",
   "execution_count": 42,
   "id": "44c34fcb",
   "metadata": {},
   "outputs": [],
   "source": [
    "[loss, mae] = model.evaluate(X_test, y_test, verbose=0)"
   ]
  },
  {
   "cell_type": "code",
   "execution_count": 51,
   "id": "6b5a4d80",
   "metadata": {},
   "outputs": [
    {
     "name": "stdout",
     "output_type": "stream",
     "text": [
      "0.19411081075668335\n"
     ]
    }
   ],
   "source": [
    "print(mae)\n"
   ]
  },
  {
   "cell_type": "markdown",
   "id": "1813453c",
   "metadata": {},
   "source": [
    "## Predict using data"
   ]
  },
  {
   "cell_type": "code",
   "execution_count": 44,
   "id": "b7c6b01b",
   "metadata": {},
   "outputs": [],
   "source": [
    "test_predictions = model.predict(X_test)\n",
    "\n",
    "\n",
    "tempT = []\n",
    "averages = []\n",
    "for x in range(len(test_predictions)):\n",
    "    tempT = test_predictions[x]\n",
    "    sum = 0\n",
    "    for y in range(len(tempT)):\n",
    "        sum = sum + (tempT[y])[0]\n",
    "    avg = sum/len(tempT)\n",
    "    averages.append(avg)\n",
    " \n",
    "\n",
    "test_predictions = averages"
   ]
  },
  {
   "cell_type": "code",
   "execution_count": 45,
   "id": "bd1a4cbd",
   "metadata": {},
   "outputs": [
    {
     "data": {
      "image/png": "[encoded data removed]",
      "text/plain": [
       "<Figure size 432x288 with 1 Axes>"
      ]
     },
     "metadata": {
      "needs_background": "light"
     },
     "output_type": "display_data"
    }
   ],
   "source": [
    "plt.scatter(y_test, test_predictions)\n",
    "plt.xlabel('True Values ')\n",
    "plt.ylabel('Predictions ')\n",
    "plt.axis('equal')\n",
    "plt.xlim(plt.xlim())\n",
    "plt.ylim(plt.ylim())\n",
    "_ = plt.plot([-100, 100], [-100, 100])\n",
    "plt.show()"
   ]
  },
  {
   "cell_type": "code",
   "execution_count": 47,
   "id": "a853077c",
   "metadata": {},
   "outputs": [
    {
     "data": {
      "text/plain": [
       "0.21629477795602658"
      ]
     },
     "execution_count": 47,
     "metadata": {},
     "output_type": "execute_result"
    }
   ],
   "source": [
    "from sklearn.metrics import r2_score\n",
    "r2_score(y_test,test_predictions)"
   ]
  },
  {
   "cell_type": "code",
   "execution_count": 38,
   "id": "023b4166",
   "metadata": {},
   "outputs": [
    {
     "data": {
      "image/png": "[encoded data removed]",
      "text/plain": [
       "<Figure size 432x288 with 1 Axes>"
      ]
     },
     "metadata": {
      "needs_background": "light"
     },
     "output_type": "display_data"
    }
   ],
   "source": [
    "\n",
    "test_predictionsT = np.transpose(test_predictions)\n",
    "test_predictions = pd.DataFrame(test_predictions,columns=['D2Area'])\n",
    "\n",
    "errorlist = []\n",
    "for x in range(len(test_predictions)):\n",
    "    error = test_predictions - y_test\n",
    "\n",
    "plt.hist(error, bins=25)\n",
    "\n",
    "plt.xlabel(\"Prediction Error\")\n",
    "_ = plt.ylabel(\"Count\")"
   ]
  }
 ],
 "metadata": {
  "kernelspec": {
   "display_name": "keras",
   "language": "python",
   "name": "keras"
  },
  "language_info": {
   "codemirror_mode": {
    "name": "ipython",
    "version": 3
   },
   "file_extension": ".py",
   "mimetype": "text/x-python",
   "name": "python",
   "nbconvert_exporter": "python",
   "pygments_lexer": "ipython3",
   "version": "3.7.11"
  }
 },
 "nbformat": 4,
 "nbformat_minor": 5
}
