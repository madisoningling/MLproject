{
 "cells": [
  {
   "cell_type": "code",
   "execution_count": 21,
   "id": "50ad4ae7",
   "metadata": {},
   "outputs": [],
   "source": [
    "#import libraries\n",
    "\n",
    "import numpy as np\n",
    "import pandas as pd\n",
    "import itertools\n",
    "import matplotlib.pyplot as plt\n",
    "from sklearn.metrics import accuracy_score\n",
    "from sklearn.model_selection import train_test_split\n",
    "import tensorflow as tf\n",
    "from tensorflow import keras\n",
    "from tensorflow.keras import layers, models\n",
    "from tensorflow.keras.models import Sequential\n",
    "from tensorflow.keras.layers import Dense, Dropout, LSTM, Masking, Embedding"
   ]
  },
  {
   "cell_type": "code",
   "execution_count": 22,
   "id": "fe4d8c4b",
   "metadata": {},
   "outputs": [
    {
     "data": {
      "text/html": [
       "<div>\n",
       "<style scoped>\n",
       "    .dataframe tbody tr th:only-of-type {\n",
       "        vertical-align: middle;\n",
       "    }\n",
       "\n",
       "    .dataframe tbody tr th {\n",
       "        vertical-align: top;\n",
       "    }\n",
       "\n",
       "    .dataframe thead th {\n",
       "        text-align: right;\n",
       "    }\n",
       "</style>\n",
       "<table border=\"1\" class=\"dataframe\">\n",
       "  <thead>\n",
       "    <tr style=\"text-align: right;\">\n",
       "      <th></th>\n",
       "      <th>year</th>\n",
       "      <th>site</th>\n",
       "      <th>latitude</th>\n",
       "      <th>longitude</th>\n",
       "      <th>month</th>\n",
       "      <th>airT</th>\n",
       "      <th>precip</th>\n",
       "      <th>snowDepth</th>\n",
       "      <th>SWE</th>\n",
       "      <th>streamFlow</th>\n",
       "    </tr>\n",
       "  </thead>\n",
       "  <tbody>\n",
       "    <tr>\n",
       "      <th>0</th>\n",
       "      <td>1979</td>\n",
       "      <td>Brown Duck</td>\n",
       "      <td>40.58102</td>\n",
       "      <td>-110.58587</td>\n",
       "      <td>1</td>\n",
       "      <td>-18</td>\n",
       "      <td>4.0</td>\n",
       "      <td>42</td>\n",
       "      <td>7.8</td>\n",
       "      <td>19.9</td>\n",
       "    </tr>\n",
       "    <tr>\n",
       "      <th>1</th>\n",
       "      <td>1979</td>\n",
       "      <td>Brown Duck</td>\n",
       "      <td>40.58102</td>\n",
       "      <td>-110.58587</td>\n",
       "      <td>2</td>\n",
       "      <td>-5</td>\n",
       "      <td>3.8</td>\n",
       "      <td>53</td>\n",
       "      <td>11.8</td>\n",
       "      <td>20.0</td>\n",
       "    </tr>\n",
       "    <tr>\n",
       "      <th>2</th>\n",
       "      <td>1979</td>\n",
       "      <td>Brown Duck</td>\n",
       "      <td>40.58102</td>\n",
       "      <td>-110.58587</td>\n",
       "      <td>3</td>\n",
       "      <td>7</td>\n",
       "      <td>3.9</td>\n",
       "      <td>58</td>\n",
       "      <td>15.6</td>\n",
       "      <td>19.4</td>\n",
       "    </tr>\n",
       "    <tr>\n",
       "      <th>3</th>\n",
       "      <td>1979</td>\n",
       "      <td>Brown Duck</td>\n",
       "      <td>40.58102</td>\n",
       "      <td>-110.58587</td>\n",
       "      <td>4</td>\n",
       "      <td>-6</td>\n",
       "      <td>1.0</td>\n",
       "      <td>65</td>\n",
       "      <td>19.5</td>\n",
       "      <td>29.1</td>\n",
       "    </tr>\n",
       "    <tr>\n",
       "      <th>4</th>\n",
       "      <td>1979</td>\n",
       "      <td>Brown Duck</td>\n",
       "      <td>40.58102</td>\n",
       "      <td>-110.58587</td>\n",
       "      <td>5</td>\n",
       "      <td>14</td>\n",
       "      <td>2.0</td>\n",
       "      <td>71</td>\n",
       "      <td>20.5</td>\n",
       "      <td>253.5</td>\n",
       "    </tr>\n",
       "  </tbody>\n",
       "</table>\n",
       "</div>"
      ],
      "text/plain": [
       "   year        site  latitude  longitude  month  airT  precip  snowDepth  \\\n",
       "0  1979  Brown Duck  40.58102 -110.58587      1   -18     4.0         42   \n",
       "1  1979  Brown Duck  40.58102 -110.58587      2    -5     3.8         53   \n",
       "2  1979  Brown Duck  40.58102 -110.58587      3     7     3.9         58   \n",
       "3  1979  Brown Duck  40.58102 -110.58587      4    -6     1.0         65   \n",
       "4  1979  Brown Duck  40.58102 -110.58587      5    14     2.0         71   \n",
       "\n",
       "    SWE  streamFlow  \n",
       "0   7.8        19.9  \n",
       "1  11.8        20.0  \n",
       "2  15.6        19.4  \n",
       "3  19.5        29.1  \n",
       "4  20.5       253.5  "
      ]
     },
     "execution_count": 22,
     "metadata": {},
     "output_type": "execute_result"
    }
   ],
   "source": [
    "#load data\n",
    "\n",
    "#input\n",
    "input_data = pd.read_csv('/Users/Madi/Desktop/ML/inputdata_randomized5time.csv')\n",
    "\n",
    "\n",
    "data1979 = input_data.loc[input_data['year']==1979];data1980 = input_data.loc[input_data['year']==1980];data1981 = input_data.loc[input_data['year']==1981];data1984 = input_data.loc[input_data['year']==1984];data1985 = input_data.loc[input_data['year']==1985];data1986 = input_data.loc[input_data['year']==1986]\n",
    "data1987 = input_data.loc[input_data['year']==1987];data1988 = input_data.loc[input_data['year']==1988];data1989 = input_data.loc[input_data['year'] == 1989];data1990 = input_data.loc[input_data['year'] == 1990];data1992 = input_data.loc[input_data['year']==1992]\n",
    "data1993 = input_data.loc[input_data['year']==1993];data1998 = input_data.loc[input_data['year'] == 1998]\n",
    "data1997 = input_data.loc[input_data['year'] == 1997];data1999 = input_data.loc[input_data['year'] == 1999]; data2000 = input_data.loc[input_data['year'] == 2000]\n",
    "data2001 = input_data.loc[input_data['year'] == 2001]; data2002 = input_data.loc[input_data['year'] == 2002]\n",
    "data2003 = input_data.loc[input_data['year'] == 2003]; data2004 = input_data.loc[input_data['year'] == 2004]\n",
    "data2005 = input_data.loc[input_data['year'] == 2005];data2006 = input_data.loc[input_data['year'] == 2006]\n",
    "data2007 = input_data.loc[input_data['year'] == 2007];data2008 = input_data.loc[input_data['year'] == 2008]\n",
    "data2009 = input_data.loc[input_data['year'] == 2009];data2010 = input_data.loc[input_data['year'] == 2010]\n",
    "data2011 = input_data.loc[input_data['year'] == 2011];data2012 = input_data.loc[input_data['year'] == 2012]\n",
    "data2013 = input_data.loc[input_data['year'] == 2013];data2014 = input_data.loc[input_data['year'] == 2014]\n",
    "data2015 = input_data.loc[input_data['year'] == 2015];data2016 = input_data.loc[input_data['year'] == 2016]\n",
    "data2016 = input_data.loc[input_data['year'] == 2016];data2017 = input_data.loc[input_data['year'] == 2017]\n",
    "data2018 = input_data.loc[input_data['year'] == 2018];data2019 = input_data.loc[input_data['year'] == 2019]\n",
    "data2020 = input_data.loc[input_data['year'] == 2020]\n",
    "\n",
    "\n",
    "a = ['site','latitude','longitude','airT','precip','snowDepth','SWE','streamFlow']\n",
    "\n",
    "data1979= data1979[a].copy();data1980= data1980[a].copy();data1981= data1981[a].copy();data1984= data1984[a].copy();data1985= data1985[a].copy();data1987= data1987[a].copy();data1986= data1986[a].copy();data1988 = data1988[a].copy();data1989 = data1989[a].copy();data1990 = data1990[a].copy() ; data1992 = data1992[a].copy();data1993 = data1993[a].copy();data1998 = data1998[a].copy() \n",
    "data1997 = data1997[a].copy();data1999 = data1999[a].copy();data2000 = data2000[a].copy();data2001 = data2001[a].copy();data2002 = data2002[a].copy()\n",
    "data2007 = data2007[a].copy();data2008 = data2008[a].copy();data2009 = data2009[a].copy()\n",
    "data2010 = data2010[a].copy();data2011 = data2011[a].copy();data2012 = data2012[a].copy()\n",
    "data2013 = data2013[a].copy();data2014 = data2014[a].copy();data2015 = data2015[a].copy()\n",
    "data2016 = data2016[a].copy();data2017 = data2017[a].copy();data2018 = data2018[a].copy()\n",
    "data2019 = data2019[a].copy();data2020 = data2020[a].copy()\n",
    "\n",
    "input_data.head()"
   ]
  },
  {
   "cell_type": "code",
   "execution_count": 23,
   "id": "c82280da",
   "metadata": {},
   "outputs": [
    {
     "data": {
      "text/html": [
       "<div>\n",
       "<style scoped>\n",
       "    .dataframe tbody tr th:only-of-type {\n",
       "        vertical-align: middle;\n",
       "    }\n",
       "\n",
       "    .dataframe tbody tr th {\n",
       "        vertical-align: top;\n",
       "    }\n",
       "\n",
       "    .dataframe thead th {\n",
       "        text-align: right;\n",
       "    }\n",
       "</style>\n",
       "<table border=\"1\" class=\"dataframe\">\n",
       "  <thead>\n",
       "    <tr style=\"text-align: right;\">\n",
       "      <th></th>\n",
       "      <th>Year</th>\n",
       "      <th>D2Area</th>\n",
       "      <th>Unnamed: 2</th>\n",
       "      <th>Unnamed: 3</th>\n",
       "      <th>Unnamed: 4</th>\n",
       "      <th>arizona area</th>\n",
       "      <th>california</th>\n",
       "      <th>colorado area</th>\n",
       "      <th>area nevada</th>\n",
       "      <th>new mexico</th>\n",
       "      <th>utah</th>\n",
       "      <th>wyoming</th>\n",
       "      <th>total</th>\n",
       "    </tr>\n",
       "  </thead>\n",
       "  <tbody>\n",
       "    <tr>\n",
       "      <th>0</th>\n",
       "      <td>1979</td>\n",
       "      <td>0.004874</td>\n",
       "      <td>NaN</td>\n",
       "      <td>NaN</td>\n",
       "      <td>NaN</td>\n",
       "      <td>113998.0</td>\n",
       "      <td>163696.000000</td>\n",
       "      <td>104185.0</td>\n",
       "      <td>110567.0</td>\n",
       "      <td>121697.000000</td>\n",
       "      <td>84899.0</td>\n",
       "      <td>97914.0</td>\n",
       "      <td>796956.0</td>\n",
       "    </tr>\n",
       "    <tr>\n",
       "      <th>1</th>\n",
       "      <td>1980</td>\n",
       "      <td>0.061005</td>\n",
       "      <td>NaN</td>\n",
       "      <td>NaN</td>\n",
       "      <td>NaN</td>\n",
       "      <td>NaN</td>\n",
       "      <td>NaN</td>\n",
       "      <td>NaN</td>\n",
       "      <td>NaN</td>\n",
       "      <td>NaN</td>\n",
       "      <td>NaN</td>\n",
       "      <td>NaN</td>\n",
       "      <td>NaN</td>\n",
       "    </tr>\n",
       "    <tr>\n",
       "      <th>2</th>\n",
       "      <td>1981</td>\n",
       "      <td>0.017254</td>\n",
       "      <td>NaN</td>\n",
       "      <td>NaN</td>\n",
       "      <td>NaN</td>\n",
       "      <td>1985.0</td>\n",
       "      <td>0.230748</td>\n",
       "      <td>NaN</td>\n",
       "      <td>1979.0</td>\n",
       "      <td>0.004874</td>\n",
       "      <td>NaN</td>\n",
       "      <td>NaN</td>\n",
       "      <td>NaN</td>\n",
       "    </tr>\n",
       "    <tr>\n",
       "      <th>3</th>\n",
       "      <td>1984</td>\n",
       "      <td>0.045597</td>\n",
       "      <td>NaN</td>\n",
       "      <td>NaN</td>\n",
       "      <td>NaN</td>\n",
       "      <td>1986.0</td>\n",
       "      <td>0.001083</td>\n",
       "      <td>NaN</td>\n",
       "      <td>1980.0</td>\n",
       "      <td>0.061005</td>\n",
       "      <td>NaN</td>\n",
       "      <td>NaN</td>\n",
       "      <td>NaN</td>\n",
       "    </tr>\n",
       "    <tr>\n",
       "      <th>4</th>\n",
       "      <td>1985</td>\n",
       "      <td>0.231000</td>\n",
       "      <td>NaN</td>\n",
       "      <td>NaN</td>\n",
       "      <td>NaN</td>\n",
       "      <td>1987.0</td>\n",
       "      <td>0.027079</td>\n",
       "      <td>NaN</td>\n",
       "      <td>1981.0</td>\n",
       "      <td>0.017254</td>\n",
       "      <td>NaN</td>\n",
       "      <td>NaN</td>\n",
       "      <td>NaN</td>\n",
       "    </tr>\n",
       "  </tbody>\n",
       "</table>\n",
       "</div>"
      ],
      "text/plain": [
       "   Year    D2Area  Unnamed: 2  Unnamed: 3  Unnamed: 4  arizona area   \\\n",
       "0  1979  0.004874         NaN         NaN         NaN       113998.0   \n",
       "1  1980  0.061005         NaN         NaN         NaN            NaN   \n",
       "2  1981  0.017254         NaN         NaN         NaN         1985.0   \n",
       "3  1984  0.045597         NaN         NaN         NaN         1986.0   \n",
       "4  1985  0.231000         NaN         NaN         NaN         1987.0   \n",
       "\n",
       "      california  colorado area  area nevada     new mexico    utah   \\\n",
       "0  163696.000000       104185.0     110567.0  121697.000000  84899.0   \n",
       "1            NaN            NaN          NaN            NaN      NaN   \n",
       "2       0.230748            NaN       1979.0       0.004874      NaN   \n",
       "3       0.001083            NaN       1980.0       0.061005      NaN   \n",
       "4       0.027079            NaN       1981.0       0.017254      NaN   \n",
       "\n",
       "   wyoming      total  \n",
       "0   97914.0  796956.0  \n",
       "1       NaN       NaN  \n",
       "2       NaN       NaN  \n",
       "3       NaN       NaN  \n",
       "4       NaN       NaN  "
      ]
     },
     "execution_count": 23,
     "metadata": {},
     "output_type": "execute_result"
    }
   ],
   "source": [
    "#output\n",
    "output_data = pd.read_csv('/Users/Madi/Desktop/ML/cleandroughtdata4.csv')\n",
    "out = [\"D2Area\"]\n",
    "output_labels = output_data[out].copy()\n",
    "output_data.head()\n"
   ]
  },
  {
   "cell_type": "markdown",
   "id": "92248874",
   "metadata": {},
   "source": [
    "## Organize data manually into batches"
   ]
  },
  {
   "cell_type": "code",
   "execution_count": 24,
   "id": "4a66ca45",
   "metadata": {
    "scrolled": false
   },
   "outputs": [],
   "source": [
    "\n",
    "alldata = [data1979,data1980,data1981,data1984,data1985,data1986,data1987,data1988,data1989,data1990,data1992,data1993,data1997,data1998,data1999,data2000,data2001,data2002,data2003,data2004,data2005,data2006,data2007,data2008,data2009,data2010,data2011,data2012,data2013,data2014,data2015,data2016,data2017,data2018,data2019,data2020]\n",
    "sum1=0\n",
    "\n",
    "#for x in range(len(alldata)):\n",
    " #   print(len(alldata[x])/5)\n",
    " \n",
    "    \n",
    "\n",
    "features = 5\n",
    "batch_size = 4\n",
    "timestep = 5\n",
    "count = 0\n",
    "batch = []\n",
    "tempbatch = []\n",
    "tempyear = []\n",
    "fullbatch = []\n",
    "tracker = 0\n",
    "totalcount = 0\n",
    "\n",
    "\n",
    "for x in range(len(alldata)): \n",
    "    tempyear = alldata[tracker]\n",
    "    batch = []\n",
    "    index=0\n",
    "    for y in range((int(tempyear.shape[0]/timestep))):\n",
    "        if len(batch) < batch_size:\n",
    "            tempbatch = []\n",
    "            if y == (int(tempyear.shape[0]/timestep)-1):\n",
    "                for z in range(timestep):\n",
    "                    tempbatch.append(tempyear.iloc[index])\n",
    "                    index +=1\n",
    "                batch.append(tempbatch)\n",
    "                totalcount +=1\n",
    "                fullbatch.append(batch)\n",
    "            else:\n",
    "                for z in range(timestep):\n",
    "                    tempbatch.append(tempyear.iloc[index])\n",
    "                    index +=1\n",
    "                batch.append(tempbatch)\n",
    "                totalcount +=1\n",
    "\n",
    "        elif len(batch) == batch_size:\n",
    "            fullbatch.append(batch)\n",
    "            batch = []\n",
    "            tempbatch = []\n",
    "            for z in range(timestep):\n",
    "                tempbatch.append(tempyear.iloc[index])\n",
    "                if index == (tempyear.shape[0]-1):\n",
    "                    batch.append(tempbatch)\n",
    "                    fullbatch.append(batch)\n",
    "                    batch = []\n",
    "                index +=1\n",
    "   \n",
    "            batch.append(tempbatch)\n",
    "            \n",
    "    tracker +=1\n"
   ]
  },
  {
   "cell_type": "markdown",
   "id": "fd2f3915",
   "metadata": {},
   "source": [
    "## Add Padding "
   ]
  },
  {
   "cell_type": "code",
   "execution_count": 25,
   "id": "d4623607",
   "metadata": {
    "scrolled": false
   },
   "outputs": [
    {
     "name": "stdout",
     "output_type": "stream",
     "text": [
      "      airT  precip  snowDepth   SWE  streamFlow\n",
      "0        0     0.0          0   0.0         0.0\n",
      "1        0     0.0          0   0.0         0.0\n",
      "2        0     0.0          0   0.0         0.0\n",
      "3        0     0.0          0   0.0         0.0\n",
      "4        0     0.0          0   0.0         0.0\n",
      "...    ...     ...        ...   ...         ...\n",
      "6035    21     2.6         56  14.1        67.2\n",
      "6036    19     2.0         50  14.6        48.6\n",
      "6037    36     2.4         22   7.5        60.2\n",
      "6038    43     0.6          0   0.0       140.8\n",
      "6039    48     0.8          0   0.0       488.0\n",
      "\n",
      "[6040 rows x 5 columns]\n"
     ]
    }
   ],
   "source": [
    "\n",
    "#prepadding so batch size is uniform\n",
    "pad = [[0,0,0,0,0],[0,0,0,0,0],[0,0,0,0,0],[0,0,0,0,0],[0,0,0,0,0]]\n",
    "\n",
    "for x in range(len(fullbatch)):\n",
    "    single = fullbatch[x]\n",
    "    for m in range(len(single)):\n",
    "        if len(single) != batch_size:\n",
    "            difference = batch_size - len(single)\n",
    "            while difference != 0:\n",
    "                for k in range(difference):\n",
    "                    single.insert(0,pad)\n",
    "                    difference = batch_size - len(single)\n",
    "         \n",
    "\n",
    "\n",
    "#convert data back into dataframe\n",
    "newbatch = []\n",
    "for x in range(len(fullbatch)):\n",
    "    single = fullbatch[x]\n",
    "    for c in range(len(single)):\n",
    "        individual = single[c]\n",
    "        for d in range(len(individual)):\n",
    "            one = individual[d]\n",
    "            one = pd.DataFrame(one)\n",
    "            one = pd.DataFrame.transpose(one)\n",
    "\n",
    "                   \n",
    "\n",
    "for x in range(len(fullbatch)):\n",
    "    single = fullbatch[x]\n",
    "    for c in range(len(single)):\n",
    "        individual = single[c]\n",
    "        for d in range(len(individual)):\n",
    "            one = individual[d]\n",
    "            if isinstance(one,list) == False:\n",
    "                one = one.tolist()\n",
    "                one.pop(0)\n",
    "                if len(one) != features:\n",
    "                    while len(one) != features:\n",
    "                        one.pop(0)\n",
    "                newbatch.append(one)\n",
    "            else:\n",
    "                newbatch.append(one)\n",
    "                  \n",
    "\n",
    "paddedfinal = pd.DataFrame(newbatch,columns=['airT','precip','snowDepth','SWE','streamFlow'])\n",
    "print(paddedfinal)\n",
    "\n"
   ]
  },
  {
   "cell_type": "code",
   "execution_count": 26,
   "id": "805af078",
   "metadata": {
    "scrolled": false
   },
   "outputs": [],
   "source": [
    "# reorganize data so each batch of sites per timestep is one vector \n",
    "\n",
    "temp = []\n",
    "batches = []\n",
    "index = 0\n",
    "paddedfarray = paddedfinal.values.tolist()\n",
    "\n",
    "padded_flatten = list(itertools.chain(*paddedfarray))\n",
    "\n",
    "\n",
    "for y in range(int(len(paddedfarray)/batch_size/timestep)):\n",
    "    for x in range(timestep*batch_size):\n",
    "        temp.append(paddedfarray[index])\n",
    "        index +=1\n",
    "    batches.append(temp)\n",
    "    temp = []\n",
    "\n",
    "\n",
    "batch = []\n",
    "combined = []\n",
    "\n",
    "\n",
    "for y in range(len(batches)):\n",
    "    index = 0\n",
    "    count = 0\n",
    "    batch = batches[y]\n",
    "    for z in range(int(len(batch)/batch_size)):\n",
    "        for x in range(batch_size):\n",
    "            temp.append(batch[index])\n",
    "            index +=timestep\n",
    "        combined.append(temp)\n",
    "        temp = []\n",
    "        count+=1\n",
    "        index = count\n",
    "        \n",
    "for x in range(len(combined)):\n",
    "    combined[x] = list(itertools.chain(*combined[x]))\n",
    "  \n",
    "#print(len(combined))"
   ]
  },
  {
   "cell_type": "code",
   "execution_count": 27,
   "id": "20846432",
   "metadata": {},
   "outputs": [
    {
     "name": "stdout",
     "output_type": "stream",
     "text": [
      "302\n"
     ]
    }
   ],
   "source": [
    "z= features*batch_size\n",
    "\n",
    "reshapedcombined = np.reshape(combined,(int(len(combined)/timestep),timestep,z))\n",
    "print(len(reshapedcombined))\n",
    "X_train, X_test, y_train, y_test = train_test_split(reshapedcombined, output_labels, test_size=0.30, random_state=117)\n"
   ]
  },
  {
   "cell_type": "markdown",
   "id": "24472848",
   "metadata": {},
   "source": [
    "## Normalize Data"
   ]
  },
  {
   "cell_type": "code",
   "execution_count": 28,
   "id": "658bb58c",
   "metadata": {},
   "outputs": [],
   "source": [
    "#standardize data\n",
    "\n",
    "x_mean = X_train.mean(axis=0)\n",
    "x_std = X_train.std(axis=0)\n",
    "X_train = (X_train - x_mean) / x_std # (train_data - min) / (max-min) \n",
    "X_test = (X_test - x_mean) / x_std\n",
    "\n"
   ]
  },
  {
   "cell_type": "code",
   "execution_count": 29,
   "id": "db05761f",
   "metadata": {},
   "outputs": [
    {
     "name": "stdout",
     "output_type": "stream",
     "text": [
      "(211, 5, 20) \n",
      " (211, 1)\n"
     ]
    }
   ],
   "source": [
    "print(X_train.shape,'\\n',y_train.shape)\n"
   ]
  },
  {
   "cell_type": "markdown",
   "id": "c8ea8344",
   "metadata": {},
   "source": [
    "## Build the Model"
   ]
  },
  {
   "cell_type": "code",
   "execution_count": 30,
   "id": "800747c5",
   "metadata": {
    "scrolled": true
   },
   "outputs": [
    {
     "name": "stdout",
     "output_type": "stream",
     "text": [
      "Epoch 1/1000\n",
      "6/6 - 5s - loss: 0.1547 - mae: 0.3045 - val_loss: 0.1172 - val_mae: 0.2637\n",
      "Epoch 2/1000\n",
      "6/6 - 0s - loss: 0.1280 - mae: 0.2743 - val_loss: 0.0933 - val_mae: 0.2357\n",
      "Epoch 3/1000\n",
      "6/6 - 0s - loss: 0.1039 - mae: 0.2495 - val_loss: 0.0742 - val_mae: 0.2113\n",
      "Epoch 4/1000\n",
      "6/6 - 0s - loss: 0.0876 - mae: 0.2353 - val_loss: 0.0672 - val_mae: 0.2054\n",
      "Epoch 5/1000\n",
      "6/6 - 0s - loss: 0.0803 - mae: 0.2291 - val_loss: 0.0673 - val_mae: 0.2095\n",
      "Epoch 6/1000\n",
      "6/6 - 0s - loss: 0.0769 - mae: 0.2255 - val_loss: 0.0647 - val_mae: 0.2058\n",
      "Epoch 7/1000\n",
      "6/6 - 0s - loss: 0.0718 - mae: 0.2183 - val_loss: 0.0610 - val_mae: 0.1990\n",
      "Epoch 8/1000\n",
      "6/6 - 0s - loss: 0.0682 - mae: 0.2117 - val_loss: 0.0586 - val_mae: 0.1939\n",
      "Epoch 9/1000\n",
      "6/6 - 0s - loss: 0.0653 - mae: 0.2066 - val_loss: 0.0570 - val_mae: 0.1925\n",
      "Epoch 10/1000\n",
      "6/6 - 0s - loss: 0.0621 - mae: 0.2009 - val_loss: 0.0556 - val_mae: 0.1911\n",
      "Epoch 11/1000\n",
      "6/6 - 0s - loss: 0.0594 - mae: 0.1955 - val_loss: 0.0541 - val_mae: 0.1886\n",
      "Epoch 12/1000\n",
      "6/6 - 0s - loss: 0.0572 - mae: 0.1924 - val_loss: 0.0541 - val_mae: 0.1906\n",
      "Epoch 13/1000\n",
      "6/6 - 0s - loss: 0.0546 - mae: 0.1887 - val_loss: 0.0543 - val_mae: 0.1916\n",
      "Epoch 14/1000\n",
      "6/6 - 0s - loss: 0.0530 - mae: 0.1863 - val_loss: 0.0530 - val_mae: 0.1897\n",
      "Epoch 15/1000\n",
      "6/6 - 0s - loss: 0.0509 - mae: 0.1821 - val_loss: 0.0517 - val_mae: 0.1863\n",
      "Epoch 16/1000\n",
      "6/6 - 0s - loss: 0.0490 - mae: 0.1781 - val_loss: 0.0503 - val_mae: 0.1831\n",
      "Epoch 17/1000\n",
      "6/6 - 0s - loss: 0.0476 - mae: 0.1761 - val_loss: 0.0487 - val_mae: 0.1801\n",
      "Epoch 18/1000\n",
      "6/6 - 0s - loss: 0.0460 - mae: 0.1737 - val_loss: 0.0476 - val_mae: 0.1782\n",
      "Epoch 19/1000\n",
      "6/6 - 0s - loss: 0.0446 - mae: 0.1718 - val_loss: 0.0472 - val_mae: 0.1778\n",
      "Epoch 20/1000\n",
      "6/6 - 0s - loss: 0.0432 - mae: 0.1690 - val_loss: 0.0472 - val_mae: 0.1780\n",
      "Epoch 21/1000\n",
      "6/6 - 0s - loss: 0.0421 - mae: 0.1673 - val_loss: 0.0480 - val_mae: 0.1808\n",
      "Epoch 22/1000\n",
      "6/6 - 0s - loss: 0.0411 - mae: 0.1658 - val_loss: 0.0486 - val_mae: 0.1827\n",
      "Epoch 23/1000\n",
      "6/6 - 0s - loss: 0.0403 - mae: 0.1643 - val_loss: 0.0489 - val_mae: 0.1840\n",
      "Epoch 24/1000\n",
      "6/6 - 0s - loss: 0.0390 - mae: 0.1613 - val_loss: 0.0485 - val_mae: 0.1835\n",
      "Epoch 25/1000\n",
      "6/6 - 0s - loss: 0.0380 - mae: 0.1592 - val_loss: 0.0485 - val_mae: 0.1835\n",
      "Epoch 26/1000\n",
      "6/6 - 0s - loss: 0.0371 - mae: 0.1567 - val_loss: 0.0490 - val_mae: 0.1845\n",
      "Epoch 27/1000\n",
      "6/6 - 0s - loss: 0.0362 - mae: 0.1544 - val_loss: 0.0493 - val_mae: 0.1851\n",
      "Epoch 28/1000\n",
      "6/6 - 0s - loss: 0.0359 - mae: 0.1536 - val_loss: 0.0491 - val_mae: 0.1852\n",
      "Epoch 29/1000\n",
      "6/6 - 0s - loss: 0.0350 - mae: 0.1519 - val_loss: 0.0496 - val_mae: 0.1861\n",
      "Epoch 30/1000\n",
      "6/6 - 0s - loss: 0.0342 - mae: 0.1502 - val_loss: 0.0498 - val_mae: 0.1864\n",
      "Epoch 31/1000\n",
      "6/6 - 0s - loss: 0.0334 - mae: 0.1478 - val_loss: 0.0495 - val_mae: 0.1865\n",
      "Epoch 32/1000\n",
      "6/6 - 0s - loss: 0.0327 - mae: 0.1459 - val_loss: 0.0508 - val_mae: 0.1905\n",
      "Epoch 33/1000\n",
      "6/6 - 0s - loss: 0.0323 - mae: 0.1446 - val_loss: 0.0505 - val_mae: 0.1897\n",
      "Epoch 34/1000\n",
      "6/6 - 0s - loss: 0.0316 - mae: 0.1425 - val_loss: 0.0501 - val_mae: 0.1876\n",
      "Epoch 35/1000\n",
      "6/6 - 0s - loss: 0.0312 - mae: 0.1412 - val_loss: 0.0495 - val_mae: 0.1865\n",
      "Epoch 36/1000\n",
      "6/6 - 0s - loss: 0.0305 - mae: 0.1397 - val_loss: 0.0504 - val_mae: 0.1866\n",
      "Epoch 37/1000\n",
      "6/6 - 0s - loss: 0.0308 - mae: 0.1410 - val_loss: 0.0514 - val_mae: 0.1907\n",
      "Epoch 38/1000\n",
      "6/6 - 0s - loss: 0.0295 - mae: 0.1389 - val_loss: 0.0508 - val_mae: 0.1907\n",
      "Epoch 39/1000\n",
      "6/6 - 0s - loss: 0.0286 - mae: 0.1359 - val_loss: 0.0499 - val_mae: 0.1864\n",
      "Epoch 40/1000\n",
      "6/6 - 0s - loss: 0.0282 - mae: 0.1331 - val_loss: 0.0501 - val_mae: 0.1861\n",
      "Epoch 00040: early stopping\n",
      "Model: \"sequential_1\"\n",
      "_________________________________________________________________\n",
      "Layer (type)                 Output Shape              Param #   \n",
      "=================================================================\n",
      "lstm_3 (LSTM)                (None, 5, 32)             6784      \n",
      "_________________________________________________________________\n",
      "lstm_4 (LSTM)                (None, 5, 32)             8320      \n",
      "_________________________________________________________________\n",
      "lstm_5 (LSTM)                (None, 5, 32)             8320      \n",
      "_________________________________________________________________\n",
      "dense_1 (Dense)              (None, 5, 1)              33        \n",
      "=================================================================\n",
      "Total params: 23,457\n",
      "Trainable params: 23,457\n",
      "Non-trainable params: 0\n",
      "_________________________________________________________________\n"
     ]
    },
    {
     "data": {
      "image/png": "[encoded data removed]",
      "text/plain": [
       "<Figure size 432x288 with 1 Axes>"
      ]
     },
     "metadata": {
      "needs_background": "light"
     },
     "output_type": "display_data"
    }
   ],
   "source": [
    "\n",
    "# Function to plot how the model is doing during training\n",
    "def plot_history(history):\n",
    "    plt.figure()\n",
    "    plt.xlabel('Epoch')\n",
    "    plt.ylabel('Mean Abs Error')\n",
    "    plt.plot(history.epoch, np.array(history.history['loss']),\n",
    "           label='Train Loss')\n",
    "    plt.plot(history.epoch, np.array(history.history['val_loss']),\n",
    "           label = 'Val Loss')\n",
    "    plt.legend()\n",
    "    #plt.ylim([0, 5])\n",
    "\n",
    "early_stop = keras.callbacks.EarlyStopping(monitor='val_loss', patience=20,verbose=True)\n",
    "\n",
    "# Define basic architecture\n",
    "model = keras.Sequential([\n",
    "    keras.layers.LSTM(32, return_sequences=True, input_shape = (timestep,features*batch_size)),\n",
    "    keras.layers.LSTM(32, return_sequences=True, input_shape = (timestep,features*batch_size)),\n",
    "    keras.layers.LSTM(32, return_sequences=True, input_shape = (timestep,features*batch_size)),\n",
    "    keras.layers.Dense(1)\n",
    "])\n",
    "\n",
    "optimizer = keras.optimizers.Adam(lr=0.001)\n",
    "model.compile(loss='mse',optimizer=optimizer, metrics=['mae'])\n",
    "\n",
    "history = model.fit(X_train,y_train,epochs=1000,verbose=2, validation_split=0.2,callbacks =[early_stop])\n",
    "\n",
    "model.summary()\n",
    "plot_history(history)"
   ]
  },
  {
   "cell_type": "code",
   "execution_count": 31,
   "id": "7af8c0db",
   "metadata": {},
   "outputs": [
    {
     "data": {
      "text/plain": [
       "(91, 5, 20)"
      ]
     },
     "execution_count": 31,
     "metadata": {},
     "output_type": "execute_result"
    }
   ],
   "source": [
    "X_test.shape\n"
   ]
  },
  {
   "cell_type": "code",
   "execution_count": 32,
   "id": "0f1eb5cd",
   "metadata": {},
   "outputs": [
    {
     "data": {
      "text/plain": [
       "(91, 1)"
      ]
     },
     "execution_count": 32,
     "metadata": {},
     "output_type": "execute_result"
    }
   ],
   "source": [
    "y_test.shape\n"
   ]
  },
  {
   "cell_type": "markdown",
   "id": "fb5b8e51",
   "metadata": {},
   "source": [
    "## Evaluate on test data"
   ]
  },
  {
   "cell_type": "code",
   "execution_count": 33,
   "id": "44c34fcb",
   "metadata": {},
   "outputs": [],
   "source": [
    "[loss, mae] = model.evaluate(X_test, y_test, verbose=0)"
   ]
  },
  {
   "cell_type": "code",
   "execution_count": 34,
   "id": "6b5a4d80",
   "metadata": {},
   "outputs": [
    {
     "name": "stdout",
     "output_type": "stream",
     "text": [
      "0.2170519381761551\n"
     ]
    }
   ],
   "source": [
    "print(mae)\n"
   ]
  },
  {
   "cell_type": "markdown",
   "id": "1813453c",
   "metadata": {},
   "source": [
    "## Predict using data"
   ]
  },
  {
   "cell_type": "code",
   "execution_count": 35,
   "id": "b7c6b01b",
   "metadata": {},
   "outputs": [],
   "source": [
    "test_predictions = model.predict(X_test)\n",
    "\n",
    "\n",
    "tempT = []\n",
    "averages = []\n",
    "for x in range(len(test_predictions)):\n",
    "    tempT = test_predictions[x]\n",
    "    sum = 0\n",
    "    for y in range(len(tempT)):\n",
    "        sum = sum + (tempT[y])[0]\n",
    "    avg = sum/len(tempT)\n",
    "    averages.append(avg)\n",
    " \n",
    "\n",
    "test_predictions = averages"
   ]
  },
  {
   "cell_type": "code",
   "execution_count": 36,
   "id": "db2d4734",
   "metadata": {},
   "outputs": [
    {
     "data": {
      "image/png": "[encoded data removed]",
      "text/plain": [
       "<Figure size 432x288 with 1 Axes>"
      ]
     },
     "metadata": {
      "needs_background": "light"
     },
     "output_type": "display_data"
    }
   ],
   "source": [
    "plt.scatter(y_test, test_predictions)\n",
    "plt.xlabel('True Values ')\n",
    "plt.ylabel('Predictions ')\n",
    "plt.axis('equal')\n",
    "plt.xlim(plt.xlim())\n",
    "plt.ylim(plt.ylim())\n",
    "_ = plt.plot([-100, 100], [-100, 100])\n",
    "plt.show()"
   ]
  },
  {
   "cell_type": "code",
   "execution_count": 37,
   "id": "a853077c",
   "metadata": {},
   "outputs": [
    {
     "data": {
      "text/plain": [
       "-0.06466232794591642"
      ]
     },
     "execution_count": 37,
     "metadata": {},
     "output_type": "execute_result"
    }
   ],
   "source": [
    "from sklearn.metrics import r2_score\n",
    "r2_score(y_test,test_predictions)"
   ]
  },
  {
   "cell_type": "code",
   "execution_count": 38,
   "id": "023b4166",
   "metadata": {},
   "outputs": [
    {
     "data": {
      "image/png": "[encoded data removed]",
      "text/plain": [
       "<Figure size 432x288 with 1 Axes>"
      ]
     },
     "metadata": {
      "needs_background": "light"
     },
     "output_type": "display_data"
    }
   ],
   "source": [
    "\n",
    "test_predictionsT = np.transpose(test_predictions)\n",
    "test_predictions = pd.DataFrame(test_predictions,columns=['D2Area'])\n",
    "\n",
    "errorlist = []\n",
    "for x in range(len(test_predictions)):\n",
    "    error = test_predictions - y_test\n",
    "\n",
    "plt.hist(error, bins=25)\n",
    "\n",
    "plt.xlabel(\"Prediction Error\")\n",
    "_ = plt.ylabel(\"Count\")"
   ]
  }
 ],
 "metadata": {
  "kernelspec": {
   "display_name": "keras",
   "language": "python",
   "name": "keras"
  },
  "language_info": {
   "codemirror_mode": {
    "name": "ipython",
    "version": 3
   },
   "file_extension": ".py",
   "mimetype": "text/x-python",
   "name": "python",
   "nbconvert_exporter": "python",
   "pygments_lexer": "ipython3",
   "version": "3.7.11"
  }
 },
 "nbformat": 4,
 "nbformat_minor": 5
}
